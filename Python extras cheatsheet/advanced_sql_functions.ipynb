{
 "cells": [
  {
   "cell_type": "markdown",
   "id": "04fb5fce",
   "metadata": {},
   "source": [
    "# Advanced SQL Functions"
   ]
  },
  {
   "cell_type": "markdown",
   "id": "03c1611a",
   "metadata": {},
   "source": [
    "In this notebook, we will explore some advanced SQL functions and techniques to help you manipulate and analyze data more effectively."
   ]
  },
  {
   "cell_type": "markdown",
   "id": "86f2665f",
   "metadata": {},
   "source": [
    "## 1. Aggregate Functions"
   ]
  },
  {
   "cell_type": "markdown",
   "id": "a173fb50",
   "metadata": {},
   "source": [
    "Aggregate functions perform a calculation on a set of values and return a single value. Common aggregate functions include `COUNT`, `SUM`, `AVG`, `MIN`, and `MAX`."
   ]
  },
  {
   "cell_type": "code",
   "execution_count": null,
   "id": "0c1021f4",
   "metadata": {},
   "outputs": [],
   "source": [
    "-- COUNT: Returns the number of rows that match a specified criterion\n",
    "SELECT COUNT(*) FROM users;\n",
    "\n",
    "-- SUM: Returns the total sum of a numeric column\n",
    "SELECT SUM(age) FROM users;\n",
    "\n",
    "-- AVG: Returns the average value of a numeric column\n",
    "SELECT AVG(age) FROM users;\n",
    "\n",
    "-- MIN: Returns the smallest value of the selected column\n",
    "SELECT MIN(age) FROM users;\n",
    "\n",
    "-- MAX: Returns the largest value of the selected column\n",
    "SELECT MAX(age) FROM users;"
   ]
  },
  {
   "cell_type": "markdown",
   "id": "69f774d9",
   "metadata": {},
   "source": [
    "## 2. Group By"
   ]
  },
  {
   "cell_type": "markdown",
   "id": "77bf6ef6",
   "metadata": {},
   "source": [
    "The `GROUP BY` statement groups rows that have the same values into summary rows, like `find the number of customers in each country`. It is often used with aggregate functions."
   ]
  },
  {
   "cell_type": "code",
   "execution_count": null,
   "id": "e3a4209d",
   "metadata": {},
   "outputs": [],
   "source": [
    "-- GROUP BY: Group results by one or more columns\n",
    "SELECT age, COUNT(*) \n",
    "FROM users \n",
    "GROUP BY age;"
   ]
  },
  {
   "cell_type": "markdown",
   "id": "5143e87c",
   "metadata": {},
   "source": [
    "## 3. Having Clause"
   ]
  },
  {
   "cell_type": "markdown",
   "id": "0790009a",
   "metadata": {},
   "source": [
    "The `HAVING` clause was added to SQL because the `WHERE` keyword could not be used with aggregate functions. `HAVING` is used to filter records that work on summarized `GROUP BY` results."
   ]
  },
  {
   "cell_type": "code",
   "execution_count": null,
   "id": "df765036",
   "metadata": {},
   "outputs": [],
   "source": [
    "-- HAVING: Filter groups based on a condition\n",
    "SELECT age, COUNT(*) \n",
    "FROM users \n",
    "GROUP BY age \n",
    "HAVING COUNT(*) > 1;"
   ]
  },
  {
   "cell_type": "markdown",
   "id": "28fae824",
   "metadata": {},
   "source": [
    "## 4. Subqueries"
   ]
  },
  {
   "cell_type": "markdown",
   "id": "ddf5e4b7",
   "metadata": {},
   "source": [
    "A subquery is a query within another query. Subqueries can be used with `SELECT`, `INSERT`, `UPDATE`, and `DELETE` statements."
   ]
  },
  {
   "cell_type": "code",
   "execution_count": null,
   "id": "3dc3cf1b",
   "metadata": {},
   "outputs": [],
   "source": [
    "-- Subquery: Find users with the maximum age\n",
    "SELECT * \n",
    "FROM users \n",
    "WHERE age = (SELECT MAX(age) FROM users);"
   ]
  },
  {
   "cell_type": "markdown",
   "id": "5ef460d8",
   "metadata": {},
   "source": [
    "## 5. Joins"
   ]
  },
  {
   "cell_type": "markdown",
   "id": "26f6d081",
   "metadata": {},
   "source": [
    "SQL joins are used to combine rows from two or more tables, based on a related column between them."
   ]
  },
  {
   "cell_type": "markdown",
   "id": "7bcbf44d",
   "metadata": {},
   "source": [
    "### Inner Join"
   ]
  },
  {
   "cell_type": "code",
   "execution_count": null,
   "id": "ae4672d7",
   "metadata": {},
   "outputs": [],
   "source": [
    "-- INNER JOIN: Select records with matching values in both tables\n",
    "SELECT users.name, orders.product \n",
    "FROM users \n",
    "INNER JOIN orders ON users.id = orders.user_id;"
   ]
  },
  {
   "cell_type": "markdown",
   "id": "5567c2a2",
   "metadata": {},
   "source": [
    "### Left Join"
   ]
  },
  {
   "cell_type": "code",
   "execution_count": null,
   "id": "c427373a",
   "metadata": {},
   "outputs": [],
   "source": [
    "-- LEFT JOIN: Select records with matching values in the left table, and nulls for non-matching values in the right table\n",
    "SELECT users.name, orders.product \n",
    "FROM users \n",
    "LEFT JOIN orders ON users.id = orders.user_id;"
   ]
  },
  {
   "cell_type": "markdown",
   "id": "f8601c0c",
   "metadata": {},
   "source": [
    "### Right Join"
   ]
  },
  {
   "cell_type": "code",
   "execution_count": null,
   "id": "5cd42436",
   "metadata": {},
   "outputs": [],
   "source": [
    "-- RIGHT JOIN: Select records with matching values in the right table, and nulls for non-matching values in the left table\n",
    "SELECT users.name, orders.product \n",
    "FROM users \n",
    "RIGHT JOIN orders ON users.id = orders.user_id;"
   ]
  },
  {
   "cell_type": "markdown",
   "id": "a130e9b6",
   "metadata": {},
   "source": [
    "### Full Join"
   ]
  },
  {
   "cell_type": "code",
   "execution_count": null,
   "id": "171e0622",
   "metadata": {},
   "outputs": [],
   "source": [
    "-- FULL JOIN: Select records with matching values in either table\n",
    "SELECT users.name, orders.product \n",
    "FROM users \n",
    "FULL OUTER JOIN orders ON users.id = orders.user_id;"
   ]
  },
  {
   "cell_type": "markdown",
   "id": "d80b13c8",
   "metadata": {},
   "source": [
    "## 6. Indexes"
   ]
  },
  {
   "cell_type": "markdown",
   "id": "dc5adcfa",
   "metadata": {},
   "source": [
    "Indexes are used to retrieve data from the database more quickly than otherwise. The users cannot see the indexes, they are just used to speed up searches/queries."
   ]
  },
  {
   "cell_type": "code",
   "execution_count": null,
   "id": "7d5852f8",
   "metadata": {},
   "outputs": [],
   "source": [
    "-- Create an index on the email column\n",
    "CREATE INDEX idx_email ON users (email);\n",
    "\n",
    "-- Drop an index\n",
    "DROP INDEX idx_email;"
   ]
  },
  {
   "cell_type": "markdown",
   "id": "570ea16c",
   "metadata": {},
   "source": [
    "## 7. Transactions"
   ]
  },
  {
   "cell_type": "markdown",
   "id": "f427d376",
   "metadata": {},
   "source": [
    "A transaction is a sequence of one or more SQL operations treated as a unit. It ensures data integrity and is used to implement ACID properties (Atomicity, Consistency, Isolation, Durability)."
   ]
  },
  {
   "cell_type": "code",
   "execution_count": null,
   "id": "7ce6fbfe",
   "metadata": {},
   "outputs": [],
   "source": [
    "-- Start a transaction\n",
    "BEGIN TRANSACTION;\n",
    "\n",
    "-- Insert a user\n",
    "INSERT INTO users (name, age, email) VALUES ('Alice', 28, 'alice@example.com');\n",
    "\n",
    "-- Commit the transaction\n",
    "COMMIT;\n",
    "\n",
    "-- Rollback a transaction\n",
    "BEGIN TRANSACTION;\n",
    "\n",
    "-- Insert a user\n",
    "INSERT INTO users (name, age, email) VALUES ('Bob', 34, 'bob@example.com');\n",
    "\n",
    "-- Rollback the transaction\n",
    "ROLLBACK;"
   ]
  },
  {
   "cell_type": "markdown",
   "id": "68f3e7c0",
   "metadata": {},
   "source": [
    "## 8. Views"
   ]
  },
  {
   "cell_type": "markdown",
   "id": "0927c797",
   "metadata": {},
   "source": [
    "A view is a virtual table based on the result-set of an SQL statement. Views contain rows and columns, just like a real table."
   ]
  },
  {
   "cell_type": "code",
   "execution_count": null,
   "id": "ffb9df34",
   "metadata": {},
   "outputs": [],
   "source": [
    "-- Create a view\n",
    "CREATE VIEW user_orders AS\n",
    "SELECT users.name, orders.product, orders.amount\n",
    "FROM users\n",
    "JOIN orders ON users.id = orders.user_id;\n",
    "\n",
    "-- Select from the view\n",
    "SELECT * FROM user_orders;"
   ]
  },
  {
   "cell_type": "markdown",
   "id": "2beec15f",
   "metadata": {},
   "source": [
    "## 9. Stored Procedures"
   ]
  },
  {
   "cell_type": "markdown",
   "id": "e76b00e1",
   "metadata": {},
   "source": [
    "A stored procedure is a prepared SQL code that you can save and reuse. You can also pass parameters to a stored procedure, so that the stored procedure can act based on the parameter value(s) that are passed."
   ]
  },
  {
   "cell_type": "code",
   "execution_count": null,
   "id": "8d7ed436",
   "metadata": {},
   "outputs": [],
   "source": [
    "-- Create a stored procedure\n",
    "CREATE PROCEDURE GetUsers()\n",
    "BEGIN\n",
    "    SELECT * FROM users;\n",
    "END;\n",
    "\n",
    "-- Execute the stored procedure\n",
    "CALL GetUsers();"
   ]
  },
  {
   "cell_type": "markdown",
   "id": "eb653687",
   "metadata": {},
   "source": [
    "## 10. Triggers"
   ]
  },
  {
   "cell_type": "markdown",
   "id": "108f9859",
   "metadata": {},
   "source": [
    "A trigger is a set of SQL statements that automatically 'fires' whenever a specified event occurs on a specified table."
   ]
  },
  {
   "cell_type": "code",
   "execution_count": null,
   "id": "2e3fc84c",
   "metadata": {},
   "outputs": [],
   "source": [
    "-- Create a trigger\n",
    "CREATE TRIGGER before_insert_user\n",
    "BEFORE INSERT ON users\n",
    "FOR EACH ROW\n",
    "BEGIN\n",
    "    -- Trigger logic here\n",
    "    SELECT 'A new user is being inserted';\n",
    "END;"
   ]
  }
 ],
 "metadata": {},
 "nbformat": 4,
 "nbformat_minor": 5
}
