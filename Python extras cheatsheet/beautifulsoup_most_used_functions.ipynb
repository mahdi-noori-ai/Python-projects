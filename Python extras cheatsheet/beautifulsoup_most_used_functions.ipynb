{
 "cells": [
  {
   "cell_type": "markdown",
   "id": "94364b10",
   "metadata": {},
   "source": [
    "# Most Used Functions in BeautifulSoup"
   ]
  },
  {
   "cell_type": "markdown",
   "id": "718a6857",
   "metadata": {},
   "source": [
    "BeautifulSoup is a Python library for parsing HTML and XML documents. It creates parse trees from page source codes that can be used to extract data easily. In this notebook, we will cover some of the most commonly used functions and techniques in BeautifulSoup."
   ]
  },
  {
   "cell_type": "markdown",
   "id": "d123e8fe",
   "metadata": {},
   "source": [
    "## 1. Parsing HTML Content"
   ]
  },
  {
   "cell_type": "markdown",
   "id": "c19cc0c3",
   "metadata": {},
   "source": [
    "To parse HTML content, you need to create a `BeautifulSoup` object by passing the HTML content and the parser you want to use."
   ]
  },
  {
   "cell_type": "code",
   "execution_count": null,
   "id": "73bbd176",
   "metadata": {},
   "outputs": [],
   "source": [
    "# Example: Parsing HTML content\n",
    "from bs4 import BeautifulSoup\n",
    "\n",
    "html_content = \"<html><head><title>Example</title></head><body><h1>Hello, world!</h1></body></html>\"\n",
    "soup = BeautifulSoup(html_content, 'html.parser')\n",
    "print(soup.prettify())"
   ]
  },
  {
   "cell_type": "markdown",
   "id": "c4473911",
   "metadata": {},
   "source": [
    "## 2. Finding Elements by Tag Name"
   ]
  },
  {
   "cell_type": "markdown",
   "id": "1433c0be",
   "metadata": {},
   "source": [
    "You can use the `find` and `find_all` methods to find elements by their tag name."
   ]
  },
  {
   "cell_type": "code",
   "execution_count": null,
   "id": "4a3e9fe8",
   "metadata": {},
   "outputs": [],
   "source": [
    "# Example: Finding elements by tag name\n",
    "# Finding a single element\n",
    "title_tag = soup.find('title')\n",
    "print(f'Title tag: {title_tag}')\n",
    "\n",
    "# Finding all elements with the same tag name\n",
    "h1_tags = soup.find_all('h1')\n",
    "print(f'H1 tags: {h1_tags}')"
   ]
  },
  {
   "cell_type": "markdown",
   "id": "35cb9742",
   "metadata": {},
   "source": [
    "## 3. Finding Elements by CSS Class"
   ]
  },
  {
   "cell_type": "markdown",
   "id": "e45a5f60",
   "metadata": {},
   "source": [
    "You can use the `find` and `find_all` methods to find elements by their CSS class."
   ]
  },
  {
   "cell_type": "code",
   "execution_count": null,
   "id": "5bb15a42",
   "metadata": {},
   "outputs": [],
   "source": [
    "# Example: Finding elements by CSS class\n",
    "html_content = \"<html><body><div class='item'>Item 1</div><div class='item'>Item 2</div></body></html>\"\n",
    "soup = BeautifulSoup(html_content, 'html.parser')\n",
    "\n",
    "# Finding elements by class name\n",
    "div_tags = soup.find_all('div', class_='item')\n",
    "print(f'Div tags with class \"item\": {div_tags}')"
   ]
  },
  {
   "cell_type": "markdown",
   "id": "fa7b32db",
   "metadata": {},
   "source": [
    "## 4. Finding Elements by ID"
   ]
  },
  {
   "cell_type": "markdown",
   "id": "63cc33c1",
   "metadata": {},
   "source": [
    "You can use the `find` method to find elements by their ID."
   ]
  },
  {
   "cell_type": "code",
   "execution_count": null,
   "id": "60e08243",
   "metadata": {},
   "outputs": [],
   "source": [
    "# Example: Finding elements by ID\n",
    "html_content = \"<html><body><div id='unique'>Unique Item</div></body></html>\"\n",
    "soup = BeautifulSoup(html_content, 'html.parser')\n",
    "\n",
    "# Finding element by ID\n",
    "div_tag = soup.find('div', id='unique')\n",
    "print(f'Div tag with id \"unique\": {div_tag}')"
   ]
  },
  {
   "cell_type": "markdown",
   "id": "93848091",
   "metadata": {},
   "source": [
    "## 5. Extracting Text from Elements"
   ]
  },
  {
   "cell_type": "markdown",
   "id": "3f0b3632",
   "metadata": {},
   "source": [
    "You can use the `get_text` method to extract text from elements."
   ]
  },
  {
   "cell_type": "code",
   "execution_count": null,
   "id": "69bd7549",
   "metadata": {},
   "outputs": [],
   "source": [
    "# Example: Extracting text from elements\n",
    "html_content = \"<html><body><div class='item'>Item 1</div><div class='item'>Item 2</div></body></html>\"\n",
    "soup = BeautifulSoup(html_content, 'html.parser')\n",
    "\n",
    "# Extracting text from elements\n",
    "for div in soup.find_all('div', class_='item'):\n",
    "    print(f'Text: {div.get_text()}')"
   ]
  },
  {
   "cell_type": "markdown",
   "id": "3433cd34",
   "metadata": {},
   "source": [
    "## 6. Navigating the Parse Tree"
   ]
  },
  {
   "cell_type": "markdown",
   "id": "bb7f13bd",
   "metadata": {},
   "source": [
    "BeautifulSoup provides several ways to navigate the parse tree, including accessing parents, children, and siblings of elements."
   ]
  },
  {
   "cell_type": "code",
   "execution_count": null,
   "id": "2ceb7ccd",
   "metadata": {},
   "outputs": [],
   "source": [
    "# Example: Navigating the parse tree\n",
    "html_content = \"<html><body><div class='item'><p>Paragraph 1</p><p>Paragraph 2</p></div></body></html>\"\n",
    "soup = BeautifulSoup(html_content, 'html.parser')\n",
    "\n",
    "# Accessing children\n",
    "div_tag = soup.find('div', class_='item')\n",
    "for child in div_tag.children:\n",
    "    print(f'Child: {child}')\n",
    "\n",
    "# Accessing parent\n",
    "p_tag = soup.find('p')\n",
    "parent = p_tag.parent\n",
    "print(f'Parent: {parent}')\n",
    "\n",
    "# Accessing siblings\n",
    "sibling = p_tag.find_next_sibling()\n",
    "print(f'Next sibling: {sibling}')"
   ]
  },
  {
   "cell_type": "markdown",
   "id": "8460f2b7",
   "metadata": {},
   "source": [
    "## 7. Modifying the Parse Tree"
   ]
  },
  {
   "cell_type": "markdown",
   "id": "ccf662bf",
   "metadata": {},
   "source": [
    "You can modify the parse tree by adding, removing, or replacing elements."
   ]
  },
  {
   "cell_type": "code",
   "execution_count": null,
   "id": "bdd027e8",
   "metadata": {},
   "outputs": [],
   "source": [
    "# Example: Modifying the parse tree\n",
    "html_content = \"<html><body><div class='item'>Item 1</div></body></html>\"\n",
    "soup = BeautifulSoup(html_content, 'html.parser')\n",
    "\n",
    "# Adding a new tag\n",
    "new_tag = soup.new_tag('div', class_='item')\n",
    "new_tag.string = \"Item 2\"\n",
    "soup.body.append(new_tag)\n",
    "print(soup.prettify())\n",
    "\n",
    "# Removing a tag\n",
    "soup.div.decompose()\n",
    "print(soup.prettify())\n",
    "\n",
    "# Replacing a tag\n",
    "html_content = \"<html><body><div class='item'>Item 1</div></body></html>\"\n",
    "soup = BeautifulSoup(html_content, 'html.parser')\n",
    "new_tag = soup.new_tag('span', class_='item')\n",
    "new_tag.string = \"Item 1\"\n",
    "soup.div.replace_with(new_tag)\n",
    "print(soup.prettify())"
   ]
  },
  {
   "cell_type": "markdown",
   "id": "9c54601e",
   "metadata": {},
   "source": [
    "## 8. Searching with Regular Expressions"
   ]
  },
  {
   "cell_type": "markdown",
   "id": "3c8da6fb",
   "metadata": {},
   "source": [
    "You can use regular expressions to search for elements with specific patterns."
   ]
  },
  {
   "cell_type": "code",
   "execution_count": null,
   "id": "0dd18d5e",
   "metadata": {},
   "outputs": [],
   "source": [
    "# Example: Searching with regular expressions\n",
    "import re\n",
    "\n",
    "html_content = \"<html><body><div class='item'>Item 1</div><div class='thing'>Item 2</div></body></html>\"\n",
    "soup = BeautifulSoup(html_content, 'html.parser')\n",
    "\n",
    "# Searching with regular expressions\n",
    "div_tags = soup.find_all('div', class_=re.compile(r'item|thing'))\n",
    "print(f'Div tags matching pattern: {div_tags}')"
   ]
  },
  {
   "cell_type": "markdown",
   "id": "2c80a120",
   "metadata": {},
   "source": [
    "## 9. Working with Attributes"
   ]
  },
  {
   "cell_type": "markdown",
   "id": "e3d6feb1",
   "metadata": {},
   "source": [
    "You can access, modify, and delete attributes of elements."
   ]
  },
  {
   "cell_type": "code",
   "execution_count": null,
   "id": "b295166e",
   "metadata": {},
   "outputs": [],
   "source": [
    "# Example: Working with attributes\n",
    "html_content = \"<html><body><div class='item' id='unique'>Item 1</div></body></html>\"\n",
    "soup = BeautifulSoup(html_content, 'html.parser')\n",
    "\n",
    "# Accessing attributes\n",
    "div_tag = soup.find('div', class_='item')\n",
    "print(f\"ID attribute: {div_tag['id']}\")\n",
    "\n",
    "# Modifying attributes\n",
    "div_tag['id'] = 'new_id'\n",
    "print(soup.prettify())\n",
    "\n",
    "# Deleting attributes\n",
    "del div_tag['id']\n",
    "print(soup.prettify())"
   ]
  },
  {
   "cell_type": "markdown",
   "id": "c2b618f5",
   "metadata": {},
   "source": [
    "## 10. Using BeautifulSoup with Requests"
   ]
  },
  {
   "cell_type": "markdown",
   "id": "d27f4081",
   "metadata": {},
   "source": [
    "BeautifulSoup can be used with the `requests` library to scrape data from live websites."
   ]
  },
  {
   "cell_type": "code",
   "execution_count": null,
   "id": "5f22ddec",
   "metadata": {},
   "outputs": [],
   "source": [
    "# Example: Using BeautifulSoup with requests\n",
    "import requests\n",
    "from bs4 import BeautifulSoup\n",
    "\n",
    "# Sending a GET request\n",
    "response = requests.get('http://example.com')\n",
    "\n",
    "# Parsing the HTML content\n",
    "soup = BeautifulSoup(response.content, 'html.parser')\n",
    "print(soup.prettify())"
   ]
  }
 ],
 "metadata": {},
 "nbformat": 4,
 "nbformat_minor": 5
}
