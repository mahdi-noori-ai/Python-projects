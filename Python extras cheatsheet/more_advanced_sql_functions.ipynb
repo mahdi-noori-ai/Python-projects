{
 "cells": [
  {
   "cell_type": "markdown",
   "id": "a3d09069",
   "metadata": {},
   "source": [
    "# More Advanced SQL Functions"
   ]
  },
  {
   "cell_type": "markdown",
   "id": "ea7f9a09",
   "metadata": {},
   "source": [
    "In this notebook, we will explore even more advanced SQL functions and techniques to help you manipulate and analyze data more effectively."
   ]
  },
  {
   "cell_type": "markdown",
   "id": "584a29cd",
   "metadata": {},
   "source": [
    "## 1. Window Functions"
   ]
  },
  {
   "cell_type": "markdown",
   "id": "15c6eab3",
   "metadata": {},
   "source": [
    "Window functions perform calculations across a set of table rows that are somehow related to the current row. This is comparable to the type of calculation that can be done with an aggregate function."
   ]
  },
  {
   "cell_type": "code",
   "execution_count": null,
   "id": "2427a9aa",
   "metadata": {},
   "outputs": [],
   "source": [
    "-- ROW_NUMBER: Assigns a unique sequential integer to rows within a partition\n",
    "SELECT name, age, ROW_NUMBER() OVER (ORDER BY age) AS row_num\n",
    "FROM users;\n",
    "\n",
    "-- RANK: Assigns a rank to each row within a partition of a result set\n",
    "SELECT name, age, RANK() OVER (ORDER BY age) AS rank\n",
    "FROM users;\n",
    "\n",
    "-- DENSE_RANK: Similar to RANK but without gaps in rank values\n",
    "SELECT name, age, DENSE_RANK() OVER (ORDER BY age) AS dense_rank\n",
    "FROM users;\n",
    "\n",
    "-- NTILE: Distributes the rows in an ordered partition into a specified number of approximately equal groups\n",
    "SELECT name, age, NTILE(2) OVER (ORDER BY age) AS ntile\n",
    "FROM users;\n",
    "\n",
    "-- LAG: Provides access to a row at a given physical offset that comes before the current row\n",
    "SELECT name, age, LAG(age, 1) OVER (ORDER BY age) AS prev_age\n",
    "FROM users;\n",
    "\n",
    "-- LEAD: Provides access to a row at a given physical offset that follows the current row\n",
    "SELECT name, age, LEAD(age, 1) OVER (ORDER BY age) AS next_age\n",
    "FROM users;"
   ]
  },
  {
   "cell_type": "markdown",
   "id": "91a96de4",
   "metadata": {},
   "source": [
    "## 2. Common Table Expressions (CTEs)"
   ]
  },
  {
   "cell_type": "markdown",
   "id": "d98b405a",
   "metadata": {},
   "source": [
    "A Common Table Expression (CTE) is a temporary result set that is defined within the execution scope of a single `SELECT`, `INSERT`, `UPDATE`, or `DELETE` statement."
   ]
  },
  {
   "cell_type": "code",
   "execution_count": null,
   "id": "22e5f83c",
   "metadata": {},
   "outputs": [],
   "source": [
    "-- WITH: Define a CTE\n",
    "WITH UserAges AS (\n",
    "    SELECT name, age\n",
    "    FROM users\n",
    ")\n",
    "SELECT * FROM UserAges;"
   ]
  },
  {
   "cell_type": "markdown",
   "id": "b380f3bb",
   "metadata": {},
   "source": [
    "## 3. Recursive CTEs"
   ]
  },
  {
   "cell_type": "markdown",
   "id": "72e348fe",
   "metadata": {},
   "source": [
    "Recursive CTEs are Common Table Expressions that refer to themselves. They are useful for querying hierarchical data."
   ]
  },
  {
   "cell_type": "code",
   "execution_count": null,
   "id": "a1d48f04",
   "metadata": {},
   "outputs": [],
   "source": [
    "-- Recursive CTE example\n",
    "WITH RECURSIVE cte AS (\n",
    "    SELECT 1 AS n\n",
    "    UNION ALL\n",
    "    SELECT n + 1\n",
    "    FROM cte\n",
    "    WHERE n < 10\n",
    ")\n",
    "SELECT * FROM cte;"
   ]
  },
  {
   "cell_type": "markdown",
   "id": "11285d7f",
   "metadata": {},
   "source": [
    "## 4. Pivot Tables"
   ]
  },
  {
   "cell_type": "markdown",
   "id": "f498c013",
   "metadata": {},
   "source": [
    "Pivot tables are used to summarize, sort, reorganize, group, count, total or average data stored in a database."
   ]
  },
  {
   "cell_type": "code",
   "execution_count": null,
   "id": "e21b961f",
   "metadata": {},
   "outputs": [],
   "source": [
    "-- Pivot table example\n",
    "SELECT *\n",
    "FROM (\n",
    "    SELECT name, age\n",
    "    FROM users\n",
    ") AS source_table\n",
    "PIVOT (\n",
    "    COUNT(age)\n",
    "    FOR age IN ([20], [25], [30])\n",
    ") AS pivot_table;"
   ]
  },
  {
   "cell_type": "markdown",
   "id": "af05309a",
   "metadata": {},
   "source": [
    "## 5. Unpivot Tables"
   ]
  },
  {
   "cell_type": "markdown",
   "id": "0d244ee8",
   "metadata": {},
   "source": [
    "Unpivot tables are used to transform columns into rows, which is the reverse of pivot tables."
   ]
  },
  {
   "cell_type": "code",
   "execution_count": null,
   "id": "19576d9b",
   "metadata": {},
   "outputs": [],
   "source": [
    "-- Unpivot table example\n",
    "SELECT name, age_group, age_value\n",
    "FROM (\n",
    "    SELECT name, [20], [25], [30]\n",
    "    FROM users\n",
    ") AS pivot_table\n",
    "UNPIVOT (\n",
    "    age_value FOR age_group IN ([20], [25], [30])\n",
    ") AS unpivot_table;"
   ]
  },
  {
   "cell_type": "markdown",
   "id": "f31831aa",
   "metadata": {},
   "source": [
    "## 6. JSON Functions"
   ]
  },
  {
   "cell_type": "markdown",
   "id": "0717c28e",
   "metadata": {},
   "source": [
    "Many modern databases support JSON data types and functions to manipulate JSON data."
   ]
  },
  {
   "cell_type": "code",
   "execution_count": null,
   "id": "2f7b8ad6",
   "metadata": {},
   "outputs": [],
   "source": [
    "-- JSON_EXTRACT: Extracts data from a JSON document\n",
    "SELECT JSON_EXTRACT('{\"name\": \"John\", \"age\": 30}', '$.name') AS name;\n",
    "\n",
    "-- JSON_ARRAY: Creates a JSON array\n",
    "SELECT JSON_ARRAY(1, 2, 3) AS json_array;\n",
    "\n",
    "-- JSON_OBJECT: Creates a JSON object\n",
    "SELECT JSON_OBJECT('name', 'John', 'age', 30) AS json_object;"
   ]
  },
  {
   "cell_type": "markdown",
   "id": "2b81fb5b",
   "metadata": {},
   "source": [
    "## 7. Full-Text Search"
   ]
  },
  {
   "cell_type": "markdown",
   "id": "cda62359",
   "metadata": {},
   "source": [
    "Full-text search allows you to quickly find all documents that contain a particular word or set of words."
   ]
  },
  {
   "cell_type": "code",
   "execution_count": null,
   "id": "f8b1e4f2",
   "metadata": {},
   "outputs": [],
   "source": [
    "-- Create a full-text index\n",
    "CREATE FULLTEXT INDEX idx_fulltext ON users (name, email);\n",
    "\n",
    "-- Perform a full-text search\n",
    "SELECT * FROM users\n",
    "WHERE MATCH(name, email) AGAINST('John');"
   ]
  },
  {
   "cell_type": "markdown",
   "id": "95e6c680",
   "metadata": {},
   "source": [
    "## 8. Temporary Tables"
   ]
  },
  {
   "cell_type": "markdown",
   "id": "dc4d39b0",
   "metadata": {},
   "source": [
    "Temporary tables are used to store data temporarily during a session."
   ]
  },
  {
   "cell_type": "code",
   "execution_count": null,
   "id": "b711b989",
   "metadata": {},
   "outputs": [],
   "source": [
    "-- Create a temporary table\n",
    "CREATE TEMPORARY TABLE temp_users (\n",
    "    id INTEGER PRIMARY KEY,\n",
    "    name TEXT NOT NULL,\n",
    "    age INTEGER,\n",
    "    email TEXT UNIQUE\n",
    ");\n",
    "\n",
    "-- Insert data into the temporary table\n",
    "INSERT INTO temp_users (name, age, email) VALUES ('Alice', 28, 'alice@example.com');\n",
    "\n",
    "-- Select data from the temporary table\n",
    "SELECT * FROM temp_users;\n",
    "\n",
    "-- Drop the temporary table\n",
    "DROP TABLE temp_users;"
   ]
  },
  {
   "cell_type": "markdown",
   "id": "4fa0636c",
   "metadata": {},
   "source": [
    "## 9. Data Types"
   ]
  },
  {
   "cell_type": "markdown",
   "id": "af1d9eca",
   "metadata": {},
   "source": [
    "Understanding the different data types available in SQL can help you design your tables more effectively."
   ]
  },
  {
   "cell_type": "code",
   "execution_count": null,
   "id": "4e6cb6c9",
   "metadata": {},
   "outputs": [],
   "source": [
    "-- Common data types in SQL\n",
    "CREATE TABLE data_types_example (\n",
    "    id INTEGER PRIMARY KEY, -- Integer\n",
    "    name TEXT NOT NULL, -- Text\n",
    "    birth_date DATE, -- Date\n",
    "    salary REAL, -- Real number\n",
    "    is_active BOOLEAN -- Boolean\n",
    ");"
   ]
  },
  {
   "cell_type": "markdown",
   "id": "73428350",
   "metadata": {},
   "source": [
    "## 10. User-Defined Functions (UDFs)"
   ]
  },
  {
   "cell_type": "markdown",
   "id": "7dbd62ad",
   "metadata": {},
   "source": [
    "User-Defined Functions (UDFs) allow you to create your own functions to encapsulate complex logic and reuse it in SQL statements."
   ]
  },
  {
   "cell_type": "code",
   "execution_count": null,
   "id": "f252cb19",
   "metadata": {},
   "outputs": [],
   "source": [
    "-- Create a user-defined function\n",
    "CREATE FUNCTION CalculateAge(birth_date DATE)\n",
    "RETURNS INTEGER\n",
    "BEGIN\n",
    "    DECLARE age INTEGER;\n",
    "    SET age = YEAR(CURDATE()) - YEAR(birth_date);\n",
    "    IF MONTH(CURDATE()) < MONTH(birth_date) OR (MONTH(CURDATE()) = MONTH(birth_date) AND DAY(CURDATE()) < DAY(birth_date)) THEN\n",
    "        SET age = age - 1;\n",
    "    END IF;\n",
    "    RETURN age;\n",
    "END;\n",
    "\n",
    "-- Use the user-defined function\n",
    "SELECT name, CalculateAge(birth_date) AS age FROM users;"
   ]
  }
 ],
 "metadata": {},
 "nbformat": 4,
 "nbformat_minor": 5
}
