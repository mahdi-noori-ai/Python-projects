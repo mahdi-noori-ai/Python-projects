{
 "cells": [
  {
   "cell_type": "markdown",
   "id": "609eba9b",
   "metadata": {},
   "source": [
    "# Selenium Guide"
   ]
  },
  {
   "cell_type": "markdown",
   "id": "04dc1dfe",
   "metadata": {},
   "source": [
    "Selenium is a powerful tool for controlling a web browser through the program. It is functional for all browsers, works on all major OS, and its scripts can be written in various programming languages, including Python."
   ]
  },
  {
   "cell_type": "markdown",
   "id": "ccd41224",
   "metadata": {},
   "source": [
    "## 1. Installing Selenium"
   ]
  },
  {
   "cell_type": "code",
   "execution_count": null,
   "id": "9452d704",
   "metadata": {},
   "outputs": [],
   "source": [
    "!pip install selenium"
   ]
  },
  {
   "cell_type": "markdown",
   "id": "ec04f799",
   "metadata": {},
   "source": [
    "## 2. Setting Up a WebDriver"
   ]
  },
  {
   "cell_type": "markdown",
   "id": "2a170e59",
   "metadata": {},
   "source": [
    "A WebDriver is an interface that allows you to interact with a web browser. For example, you can use ChromeDriver for Google Chrome.\n",
    "\n",
    "1. Download the ChromeDriver from [here](https://sites.google.com/a/chromium.org/chromedriver/downloads).\n",
    "2. Place the executable in a directory included in your system's PATH."
   ]
  },
  {
   "cell_type": "markdown",
   "id": "c9b27ef9",
   "metadata": {},
   "source": [
    "## 3. Writing Your First Selenium Script"
   ]
  },
  {
   "cell_type": "code",
   "execution_count": null,
   "id": "69add7b0",
   "metadata": {},
   "outputs": [],
   "source": [
    "from selenium import webdriver\n",
    "from selenium.webdriver.common.by import By\n",
    "from selenium.webdriver.common.keys import Keys\n",
    "import time\n",
    "\n",
    "# Set up the WebDriver\n",
    "driver = webdriver.Chrome()\n",
    "\n",
    "# Open a website\n",
    "driver.get(\"http://www.google.com\")\n",
    "\n",
    "# Find the search box\n",
    "search_box = driver.find_element(By.NAME, \"q\")\n",
    "\n",
    "# Type a query and hit enter\n",
    "search_box.send_keys(\"Selenium WebDriver\")\n",
    "search_box.send_keys(Keys.RETURN)\n",
    "\n",
    "# Wait for results to load\n",
    "time.sleep(5)\n",
    "\n",
    "# Close the browser\n",
    "driver.quit()"
   ]
  },
  {
   "cell_type": "markdown",
   "id": "1245417c",
   "metadata": {},
   "source": [
    "## 4. Advanced Selenium Functions"
   ]
  },
  {
   "cell_type": "markdown",
   "id": "6527bcf0",
   "metadata": {},
   "source": [
    "### Navigating Browser History"
   ]
  },
  {
   "cell_type": "code",
   "execution_count": null,
   "id": "3e51e25c",
   "metadata": {},
   "outputs": [],
   "source": [
    "driver.back()   # Navigate back in browser history\n",
    "driver.forward()  # Navigate forward in browser history"
   ]
  },
  {
   "cell_type": "markdown",
   "id": "7f794566",
   "metadata": {},
   "source": [
    "### Handling Alerts"
   ]
  },
  {
   "cell_type": "code",
   "execution_count": null,
   "id": "9cc7399d",
   "metadata": {},
   "outputs": [],
   "source": [
    "alert = driver.switch_to.alert\n",
    "alert.accept()  # Accept the alert\n",
    "alert.dismiss()  # Dismiss the alert"
   ]
  },
  {
   "cell_type": "markdown",
   "id": "93d6d809",
   "metadata": {},
   "source": [
    "### Taking Screenshots"
   ]
  },
  {
   "cell_type": "code",
   "execution_count": null,
   "id": "12f8131b",
   "metadata": {},
   "outputs": [],
   "source": [
    "driver.save_screenshot('screenshot.png')"
   ]
  },
  {
   "cell_type": "markdown",
   "id": "b86efeba",
   "metadata": {},
   "source": [
    "### Working with Cookies"
   ]
  },
  {
   "cell_type": "code",
   "execution_count": null,
   "id": "9ec49775",
   "metadata": {},
   "outputs": [],
   "source": [
    "# Add a cookie\n",
    "driver.add_cookie({'name': 'foo', 'value': 'bar'})\n",
    "\n",
    "# Get all cookies\n",
    "cookies = driver.get_cookies()\n",
    "print(cookies)\n",
    "\n",
    "# Delete a cookie\n",
    "driver.delete_cookie('foo')"
   ]
  },
  {
   "cell_type": "markdown",
   "id": "be4d02b5",
   "metadata": {},
   "source": [
    "## 5. Best Practices"
   ]
  },
  {
   "cell_type": "markdown",
   "id": "c0009087",
   "metadata": {},
   "source": [
    "- **Waits**: Use implicit or explicit waits to ensure elements are available before interacting with them.\n",
    "- **Selectors**: Use appropriate selectors (ID, name, class, XPath, CSS) to locate elements.\n",
    "- **Exception Handling**: Use try-except blocks to handle exceptions and make scripts more robust."
   ]
  }
 ],
 "metadata": {},
 "nbformat": 4,
 "nbformat_minor": 5
}
