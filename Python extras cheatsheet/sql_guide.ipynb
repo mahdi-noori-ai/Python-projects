{
 "cells": [
  {
   "cell_type": "markdown",
   "id": "a081d6a8",
   "metadata": {},
   "source": [
    "# SQL Guide"
   ]
  },
  {
   "cell_type": "markdown",
   "id": "06e439bc",
   "metadata": {},
   "source": [
    "SQL (Structured Query Language) is a standard language for managing and manipulating databases. It is used to create, read, update, and delete (CRUD) data in a database."
   ]
  },
  {
   "cell_type": "markdown",
   "id": "b7f01b35",
   "metadata": {},
   "source": [
    "## 1. Introduction to SQL"
   ]
  },
  {
   "cell_type": "markdown",
   "id": "c0f22219",
   "metadata": {},
   "source": [
    "SQL (Structured Query Language) is a standard language for managing and manipulating databases. It is used to create, read, update, and delete (CRUD) data in a database."
   ]
  },
  {
   "cell_type": "markdown",
   "id": "c0717b94",
   "metadata": {},
   "source": [
    "## 2. Installing a Database"
   ]
  },
  {
   "cell_type": "markdown",
   "id": "d5d4b41f",
   "metadata": {},
   "source": [
    "### Install SQLite"
   ]
  },
  {
   "cell_type": "code",
   "execution_count": null,
   "id": "9252cf8e",
   "metadata": {},
   "outputs": [],
   "source": [
    "# For Windows, download the precompiled binaries from the SQLite website\n",
    "# For macOS, use Homebrew\n",
    "!brew install sqlite3\n",
    "# For Linux, use the package manager\n",
    "!sudo apt-get install sqlite3"
   ]
  },
  {
   "cell_type": "markdown",
   "id": "4956fdb8",
   "metadata": {},
   "source": [
    "## 3. Basic SQL Commands"
   ]
  },
  {
   "cell_type": "markdown",
   "id": "fef7cf8f",
   "metadata": {},
   "source": [
    "### Create a Database"
   ]
  },
  {
   "cell_type": "code",
   "execution_count": null,
   "id": "e947602e",
   "metadata": {},
   "outputs": [],
   "source": [
    "-- Create a new database\n",
    "sqlite3 my_database.db"
   ]
  },
  {
   "cell_type": "markdown",
   "id": "51d62e8a",
   "metadata": {},
   "source": [
    "### Create a Table"
   ]
  },
  {
   "cell_type": "code",
   "execution_count": null,
   "id": "ebdf87cb",
   "metadata": {},
   "outputs": [],
   "source": [
    "-- Create a new table\n",
    "CREATE TABLE users (\n",
    "    id INTEGER PRIMARY KEY,\n",
    "    name TEXT NOT NULL,\n",
    "    age INTEGER,\n",
    "    email TEXT UNIQUE\n",
    ");"
   ]
  },
  {
   "cell_type": "markdown",
   "id": "759aa6b9",
   "metadata": {},
   "source": [
    "### Insert Data"
   ]
  },
  {
   "cell_type": "code",
   "execution_count": null,
   "id": "5f9089a7",
   "metadata": {},
   "outputs": [],
   "source": [
    "-- Insert data into the table\n",
    "INSERT INTO users (name, age, email) VALUES ('John Doe', 30, 'john@example.com');\n",
    "INSERT INTO users (name, age, email) VALUES ('Jane Doe', 25, 'jane@example.com');"
   ]
  },
  {
   "cell_type": "markdown",
   "id": "246f1ae9",
   "metadata": {},
   "source": [
    "### Select Data"
   ]
  },
  {
   "cell_type": "code",
   "execution_count": null,
   "id": "88b8fe88",
   "metadata": {},
   "outputs": [],
   "source": [
    "-- Select data from the table\n",
    "SELECT * FROM users;"
   ]
  },
  {
   "cell_type": "markdown",
   "id": "bd451ed7",
   "metadata": {},
   "source": [
    "## 4. Advanced SQL Commands"
   ]
  },
  {
   "cell_type": "markdown",
   "id": "83341546",
   "metadata": {},
   "source": [
    "### Update Data"
   ]
  },
  {
   "cell_type": "code",
   "execution_count": null,
   "id": "0eac3dc8",
   "metadata": {},
   "outputs": [],
   "source": [
    "-- Update data in the table\n",
    "UPDATE users SET age = 31 WHERE id = 1;"
   ]
  },
  {
   "cell_type": "markdown",
   "id": "40cfb59e",
   "metadata": {},
   "source": [
    "### Delete Data"
   ]
  },
  {
   "cell_type": "code",
   "execution_count": null,
   "id": "f5757377",
   "metadata": {},
   "outputs": [],
   "source": [
    "-- Delete data from the table\n",
    "DELETE FROM users WHERE id = 2;"
   ]
  },
  {
   "cell_type": "markdown",
   "id": "b5f70a18",
   "metadata": {},
   "source": [
    "### Complex Queries"
   ]
  },
  {
   "cell_type": "code",
   "execution_count": null,
   "id": "a363aad6",
   "metadata": {},
   "outputs": [],
   "source": [
    "-- Select with conditions\n",
    "SELECT * FROM users WHERE age > 25;\n",
    "\n",
    "-- Join tables\n",
    "CREATE TABLE orders (\n",
    "    order_id INTEGER PRIMARY KEY,\n",
    "    user_id INTEGER,\n",
    "    product TEXT,\n",
    "    amount REAL,\n",
    "    FOREIGN KEY (user_id) REFERENCES users (id)\n",
    ");\n",
    "\n",
    "-- Insert data into orders table\n",
    "INSERT INTO orders (user_id, product, amount) VALUES (1, 'Laptop', 999.99);\n",
    "\n",
    "-- Join users and orders tables\n",
    "SELECT users.name, orders.product, orders.amount\n",
    "FROM users\n",
    "JOIN orders ON users.id = orders.user_id;"
   ]
  },
  {
   "cell_type": "markdown",
   "id": "86ffbabd",
   "metadata": {},
   "source": [
    "## 5. Best Practices"
   ]
  },
  {
   "cell_type": "markdown",
   "id": "a5e60203",
   "metadata": {},
   "source": [
    "- **Use meaningful names**: Use clear and meaningful names for tables and columns.\n",
    "- **Normalize data**: Organize the database to reduce redundancy and improve data integrity.\n",
    "- **Use transactions**: Ensure data integrity by using transactions, especially when performing multiple operations.\n",
    "- **Indexing**: Use indexes to improve the performance of queries.\n",
    "- **Backup regularly**: Regularly backup your database to prevent data loss."
   ]
  }
 ],
 "metadata": {},
 "nbformat": 4,
 "nbformat_minor": 5
}
